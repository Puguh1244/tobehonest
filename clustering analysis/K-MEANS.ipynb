{
 "cells": [
  {
   "cell_type": "code",
   "execution_count": 99,
   "metadata": {},
   "outputs": [
    {
     "data": {
      "text/html": [
       "<div>\n",
       "<style scoped>\n",
       "    .dataframe tbody tr th:only-of-type {\n",
       "        vertical-align: middle;\n",
       "    }\n",
       "\n",
       "    .dataframe tbody tr th {\n",
       "        vertical-align: top;\n",
       "    }\n",
       "\n",
       "    .dataframe thead th {\n",
       "        text-align: right;\n",
       "    }\n",
       "</style>\n",
       "<table border=\"1\" class=\"dataframe\">\n",
       "  <thead>\n",
       "    <tr style=\"text-align: right;\">\n",
       "      <th></th>\n",
       "      <th>ID</th>\n",
       "      <th>Nama</th>\n",
       "      <th>Umur</th>\n",
       "      <th>Gender</th>\n",
       "      <th>Nilai</th>\n",
       "      <th>Matkul</th>\n",
       "      <th>Tanggal</th>\n",
       "      <th>UTS</th>\n",
       "      <th>UAS</th>\n",
       "      <th>cluster</th>\n",
       "    </tr>\n",
       "  </thead>\n",
       "  <tbody>\n",
       "    <tr>\n",
       "      <th>0</th>\n",
       "      <td>1</td>\n",
       "      <td>Budi</td>\n",
       "      <td>24</td>\n",
       "      <td>Laki-laki</td>\n",
       "      <td>85.0</td>\n",
       "      <td>Kimia</td>\n",
       "      <td>9/8/2023</td>\n",
       "      <td>90</td>\n",
       "      <td>80</td>\n",
       "      <td>kurang</td>\n",
       "    </tr>\n",
       "    <tr>\n",
       "      <th>1</th>\n",
       "      <td>2</td>\n",
       "      <td>Ani</td>\n",
       "      <td>21</td>\n",
       "      <td>Perempuan</td>\n",
       "      <td>77.5</td>\n",
       "      <td>Matematika</td>\n",
       "      <td>15/8/2023</td>\n",
       "      <td>75</td>\n",
       "      <td>80</td>\n",
       "      <td>kurang</td>\n",
       "    </tr>\n",
       "    <tr>\n",
       "      <th>2</th>\n",
       "      <td>3</td>\n",
       "      <td>Joko</td>\n",
       "      <td>20</td>\n",
       "      <td>Laki-laki</td>\n",
       "      <td>90.0</td>\n",
       "      <td>Biologi</td>\n",
       "      <td>15/8/2023</td>\n",
       "      <td>85</td>\n",
       "      <td>95</td>\n",
       "      <td>baik</td>\n",
       "    </tr>\n",
       "    <tr>\n",
       "      <th>3</th>\n",
       "      <td>4</td>\n",
       "      <td>Siti</td>\n",
       "      <td>21</td>\n",
       "      <td>Perempuan</td>\n",
       "      <td>60.0</td>\n",
       "      <td>Matematika</td>\n",
       "      <td>9/8/2023</td>\n",
       "      <td>55</td>\n",
       "      <td>65</td>\n",
       "      <td>kurang</td>\n",
       "    </tr>\n",
       "    <tr>\n",
       "      <th>4</th>\n",
       "      <td>5</td>\n",
       "      <td>Agus</td>\n",
       "      <td>23</td>\n",
       "      <td>Laki-laki</td>\n",
       "      <td>77.5</td>\n",
       "      <td>Fisika</td>\n",
       "      <td>9/8/2023</td>\n",
       "      <td>80</td>\n",
       "      <td>75</td>\n",
       "      <td>kurang</td>\n",
       "    </tr>\n",
       "    <tr>\n",
       "      <th>...</th>\n",
       "      <td>...</td>\n",
       "      <td>...</td>\n",
       "      <td>...</td>\n",
       "      <td>...</td>\n",
       "      <td>...</td>\n",
       "      <td>...</td>\n",
       "      <td>...</td>\n",
       "      <td>...</td>\n",
       "      <td>...</td>\n",
       "      <td>...</td>\n",
       "    </tr>\n",
       "    <tr>\n",
       "      <th>95</th>\n",
       "      <td>96</td>\n",
       "      <td>Yanto</td>\n",
       "      <td>24</td>\n",
       "      <td>Laki-laki</td>\n",
       "      <td>81.0</td>\n",
       "      <td>Fisika</td>\n",
       "      <td>15/8/2023</td>\n",
       "      <td>76</td>\n",
       "      <td>86</td>\n",
       "      <td>baik</td>\n",
       "    </tr>\n",
       "    <tr>\n",
       "      <th>96</th>\n",
       "      <td>97</td>\n",
       "      <td>Dina</td>\n",
       "      <td>22</td>\n",
       "      <td>Perempuan</td>\n",
       "      <td>82.0</td>\n",
       "      <td>Kimia</td>\n",
       "      <td>15/8/2023</td>\n",
       "      <td>92</td>\n",
       "      <td>72</td>\n",
       "      <td>kurang</td>\n",
       "    </tr>\n",
       "    <tr>\n",
       "      <th>97</th>\n",
       "      <td>98</td>\n",
       "      <td>Fery</td>\n",
       "      <td>22</td>\n",
       "      <td>Laki-laki</td>\n",
       "      <td>80.5</td>\n",
       "      <td>Matematika</td>\n",
       "      <td>15/8/2023</td>\n",
       "      <td>87</td>\n",
       "      <td>74</td>\n",
       "      <td>kurang</td>\n",
       "    </tr>\n",
       "    <tr>\n",
       "      <th>98</th>\n",
       "      <td>99</td>\n",
       "      <td>Febi</td>\n",
       "      <td>22</td>\n",
       "      <td>Perempuan</td>\n",
       "      <td>72.0</td>\n",
       "      <td>Biologi</td>\n",
       "      <td>15/8/2023</td>\n",
       "      <td>74</td>\n",
       "      <td>70</td>\n",
       "      <td>kurang</td>\n",
       "    </tr>\n",
       "    <tr>\n",
       "      <th>99</th>\n",
       "      <td>100</td>\n",
       "      <td>Rony</td>\n",
       "      <td>20</td>\n",
       "      <td>Laki-laki</td>\n",
       "      <td>94.0</td>\n",
       "      <td>Kimia</td>\n",
       "      <td>15/8/2023</td>\n",
       "      <td>94</td>\n",
       "      <td>94</td>\n",
       "      <td>baik</td>\n",
       "    </tr>\n",
       "  </tbody>\n",
       "</table>\n",
       "<p>100 rows × 10 columns</p>\n",
       "</div>"
      ],
      "text/plain": [
       "    ID    Nama    Umur   Gender      Nilai   Matkul       Tanggal     UTS   \\\n",
       "0      1  Budi       24  Laki-laki     85.0  Kimia        9/8/2023      90   \n",
       "1      2  Ani        21  Perempuan     77.5  Matematika   15/8/2023     75   \n",
       "2      3  Joko       20  Laki-laki     90.0  Biologi      15/8/2023     85   \n",
       "3      4  Siti       21  Perempuan     60.0  Matematika   9/8/2023      55   \n",
       "4      5  Agus       23  Laki-laki     77.5  Fisika       9/8/2023      80   \n",
       "..   ...     ...    ...         ...     ...          ...         ...   ...   \n",
       "95    96  Yanto      24  Laki-laki     81.0  Fisika       15/8/2023     76   \n",
       "96    97  Dina       22  Perempuan     82.0  Kimia        15/8/2023     92   \n",
       "97    98  Fery       22  Laki-laki     80.5  Matematika   15/8/2023     87   \n",
       "98    99  Febi       22  Perempuan     72.0  Biologi      15/8/2023     74   \n",
       "99   100  Rony       20  Laki-laki     94.0  Kimia        15/8/2023     94   \n",
       "\n",
       "    UAS cluster  \n",
       "0    80  kurang  \n",
       "1    80  kurang  \n",
       "2    95    baik  \n",
       "3    65  kurang  \n",
       "4    75  kurang  \n",
       "..  ...     ...  \n",
       "95   86    baik  \n",
       "96   72  kurang  \n",
       "97   74  kurang  \n",
       "98   70  kurang  \n",
       "99   94    baik  \n",
       "\n",
       "[100 rows x 10 columns]"
      ]
     },
     "execution_count": 99,
     "metadata": {},
     "output_type": "execute_result"
    }
   ],
   "source": [
    "import pandas as pd\n",
    "import numpy as np\n",
    "import matplotlib.pyplot as plt\n",
    "from sklearn.linear_model import LinearRegression\n",
    "from sklearn.preprocessing import MinMaxScaler\n",
    "from sklearn.cluster import KMeans\n",
    "\n",
    "data=pd.read_csv(\"nilai.csv\", engine=\"python\")\n",
    "data"
   ]
  },
  {
   "cell_type": "code",
   "execution_count": 100,
   "metadata": {},
   "outputs": [
    {
     "name": "stdout",
     "output_type": "stream",
     "text": [
      "<class 'pandas.core.frame.DataFrame'>\n",
      "RangeIndex: 100 entries, 0 to 99\n",
      "Data columns (total 10 columns):\n",
      " #   Column       Non-Null Count  Dtype  \n",
      "---  ------       --------------  -----  \n",
      " 0   ID           100 non-null    int64  \n",
      " 1   Nama         100 non-null    object \n",
      " 2   Umur         100 non-null    int64  \n",
      " 3   Gender       100 non-null    object \n",
      " 4   Nilai        100 non-null    float64\n",
      " 5   Matkul       100 non-null    object \n",
      " 6   Tanggal      100 non-null    object \n",
      " 7   UTS          100 non-null    int64  \n",
      " 8   UAS          100 non-null    int64  \n",
      " 9   cluster      100 non-null    object \n",
      "dtypes: float64(1), int64(4), object(5)\n",
      "memory usage: 7.9+ KB\n"
     ]
    }
   ],
   "source": [
    "data.info()"
   ]
  },
  {
   "cell_type": "code",
   "execution_count": 101,
   "metadata": {},
   "outputs": [
    {
     "data": {
      "text/plain": [
       "Text(0.5, 1.0, 'PERSEBARAN NILAI')"
      ]
     },
     "execution_count": 101,
     "metadata": {},
     "output_type": "execute_result"
    },
    {
     "data": {
      "image/png": "[encoded data removed]",
      "text/plain": [
       "<Figure size 640x480 with 1 Axes>"
      ]
     },
     "metadata": {},
     "output_type": "display_data"
    }
   ],
   "source": [
    "plt.scatter(data[\"UTS \"],data['UAS'])\n",
    "\n",
    "plt.xlabel(\"UTS\")\n",
    "plt.ylabel(\"UAS\")\n",
    "plt.title('PERSEBARAN NILAI')"
   ]
  },
  {
   "cell_type": "code",
   "execution_count": 102,
   "metadata": {},
   "outputs": [
    {
     "data": {
      "text/plain": [
       "array([[90, 80],\n",
       "       [75, 80],\n",
       "       [85, 95],\n",
       "       [55, 65],\n",
       "       [80, 75],\n",
       "       [75, 95],\n",
       "       [85, 95],\n",
       "       [70, 65],\n",
       "       [80, 70],\n",
       "       [85, 80],\n",
       "       [79, 88],\n",
       "       [95, 85],\n",
       "       [94, 81],\n",
       "       [88, 91],\n",
       "       [88, 85],\n",
       "       [74, 84],\n",
       "       [76, 77],\n",
       "       [85, 70],\n",
       "       [93, 80],\n",
       "       [74, 94],\n",
       "       [74, 82],\n",
       "       [81, 94],\n",
       "       [89, 71],\n",
       "       [90, 93],\n",
       "       [93, 92],\n",
       "       [85, 75],\n",
       "       [76, 91],\n",
       "       [83, 74],\n",
       "       [85, 87],\n",
       "       [89, 91],\n",
       "       [87, 72],\n",
       "       [92, 79],\n",
       "       [73, 76],\n",
       "       [95, 75],\n",
       "       [93, 89],\n",
       "       [86, 77],\n",
       "       [88, 75],\n",
       "       [80, 77],\n",
       "       [85, 75],\n",
       "       [73, 82],\n",
       "       [81, 93],\n",
       "       [81, 79],\n",
       "       [82, 86],\n",
       "       [72, 94],\n",
       "       [95, 71],\n",
       "       [78, 90],\n",
       "       [84, 92],\n",
       "       [72, 80],\n",
       "       [79, 93],\n",
       "       [70, 91],\n",
       "       [94, 90],\n",
       "       [82, 74],\n",
       "       [94, 87],\n",
       "       [83, 94],\n",
       "       [94, 84],\n",
       "       [94, 83],\n",
       "       [87, 95],\n",
       "       [87, 80],\n",
       "       [73, 80],\n",
       "       [94, 78],\n",
       "       [74, 73],\n",
       "       [84, 78],\n",
       "       [80, 73],\n",
       "       [83, 77],\n",
       "       [73, 88],\n",
       "       [79, 94],\n",
       "       [82, 73],\n",
       "       [87, 94],\n",
       "       [84, 86],\n",
       "       [85, 86],\n",
       "       [71, 79],\n",
       "       [92, 71],\n",
       "       [77, 79],\n",
       "       [82, 70],\n",
       "       [90, 83],\n",
       "       [88, 72],\n",
       "       [83, 83],\n",
       "       [91, 73],\n",
       "       [73, 77],\n",
       "       [74, 83],\n",
       "       [85, 86],\n",
       "       [75, 87],\n",
       "       [81, 93],\n",
       "       [91, 72],\n",
       "       [91, 72],\n",
       "       [88, 81],\n",
       "       [83, 88],\n",
       "       [74, 81],\n",
       "       [72, 72],\n",
       "       [72, 91],\n",
       "       [83, 85],\n",
       "       [78, 77],\n",
       "       [87, 93],\n",
       "       [84, 85],\n",
       "       [80, 94],\n",
       "       [76, 86],\n",
       "       [92, 72],\n",
       "       [87, 74],\n",
       "       [74, 70],\n",
       "       [94, 94]], dtype=int64)"
      ]
     },
     "execution_count": 102,
     "metadata": {},
     "output_type": "execute_result"
    }
   ],
   "source": [
    "x_train=data.iloc[:,[7,8]].values\n",
    "x_train"
   ]
  },
  {
   "cell_type": "code",
   "execution_count": 103,
   "metadata": {},
   "outputs": [
    {
     "data": {
      "text/plain": [
       "array([[0.875     , 0.5       ],\n",
       "       [0.5       , 0.5       ],\n",
       "       [0.75      , 1.        ],\n",
       "       [0.        , 0.        ],\n",
       "       [0.625     , 0.33333333],\n",
       "       [0.5       , 1.        ],\n",
       "       [0.75      , 1.        ],\n",
       "       [0.375     , 0.        ],\n",
       "       [0.625     , 0.16666667],\n",
       "       [0.75      , 0.5       ],\n",
       "       [0.6       , 0.76666667],\n",
       "       [1.        , 0.66666667],\n",
       "       [0.975     , 0.53333333],\n",
       "       [0.825     , 0.86666667],\n",
       "       [0.825     , 0.66666667],\n",
       "       [0.475     , 0.63333333],\n",
       "       [0.525     , 0.4       ],\n",
       "       [0.75      , 0.16666667],\n",
       "       [0.95      , 0.5       ],\n",
       "       [0.475     , 0.96666667],\n",
       "       [0.475     , 0.56666667],\n",
       "       [0.65      , 0.96666667],\n",
       "       [0.85      , 0.2       ],\n",
       "       [0.875     , 0.93333333],\n",
       "       [0.95      , 0.9       ],\n",
       "       [0.75      , 0.33333333],\n",
       "       [0.525     , 0.86666667],\n",
       "       [0.7       , 0.3       ],\n",
       "       [0.75      , 0.73333333],\n",
       "       [0.85      , 0.86666667],\n",
       "       [0.8       , 0.23333333],\n",
       "       [0.925     , 0.46666667],\n",
       "       [0.45      , 0.36666667],\n",
       "       [1.        , 0.33333333],\n",
       "       [0.95      , 0.8       ],\n",
       "       [0.775     , 0.4       ],\n",
       "       [0.825     , 0.33333333],\n",
       "       [0.625     , 0.4       ],\n",
       "       [0.75      , 0.33333333],\n",
       "       [0.45      , 0.56666667],\n",
       "       [0.65      , 0.93333333],\n",
       "       [0.65      , 0.46666667],\n",
       "       [0.675     , 0.7       ],\n",
       "       [0.425     , 0.96666667],\n",
       "       [1.        , 0.2       ],\n",
       "       [0.575     , 0.83333333],\n",
       "       [0.725     , 0.9       ],\n",
       "       [0.425     , 0.5       ],\n",
       "       [0.6       , 0.93333333],\n",
       "       [0.375     , 0.86666667],\n",
       "       [0.975     , 0.83333333],\n",
       "       [0.675     , 0.3       ],\n",
       "       [0.975     , 0.73333333],\n",
       "       [0.7       , 0.96666667],\n",
       "       [0.975     , 0.63333333],\n",
       "       [0.975     , 0.6       ],\n",
       "       [0.8       , 1.        ],\n",
       "       [0.8       , 0.5       ],\n",
       "       [0.45      , 0.5       ],\n",
       "       [0.975     , 0.43333333],\n",
       "       [0.475     , 0.26666667],\n",
       "       [0.725     , 0.43333333],\n",
       "       [0.625     , 0.26666667],\n",
       "       [0.7       , 0.4       ],\n",
       "       [0.45      , 0.76666667],\n",
       "       [0.6       , 0.96666667],\n",
       "       [0.675     , 0.26666667],\n",
       "       [0.8       , 0.96666667],\n",
       "       [0.725     , 0.7       ],\n",
       "       [0.75      , 0.7       ],\n",
       "       [0.4       , 0.46666667],\n",
       "       [0.925     , 0.2       ],\n",
       "       [0.55      , 0.46666667],\n",
       "       [0.675     , 0.16666667],\n",
       "       [0.875     , 0.6       ],\n",
       "       [0.825     , 0.23333333],\n",
       "       [0.7       , 0.6       ],\n",
       "       [0.9       , 0.26666667],\n",
       "       [0.45      , 0.4       ],\n",
       "       [0.475     , 0.6       ],\n",
       "       [0.75      , 0.7       ],\n",
       "       [0.5       , 0.73333333],\n",
       "       [0.65      , 0.93333333],\n",
       "       [0.9       , 0.23333333],\n",
       "       [0.9       , 0.23333333],\n",
       "       [0.825     , 0.53333333],\n",
       "       [0.7       , 0.76666667],\n",
       "       [0.475     , 0.53333333],\n",
       "       [0.425     , 0.23333333],\n",
       "       [0.425     , 0.86666667],\n",
       "       [0.7       , 0.66666667],\n",
       "       [0.575     , 0.4       ],\n",
       "       [0.8       , 0.93333333],\n",
       "       [0.725     , 0.66666667],\n",
       "       [0.625     , 0.96666667],\n",
       "       [0.525     , 0.7       ],\n",
       "       [0.925     , 0.23333333],\n",
       "       [0.8       , 0.3       ],\n",
       "       [0.475     , 0.16666667],\n",
       "       [0.975     , 0.96666667]])"
      ]
     },
     "execution_count": 103,
     "metadata": {},
     "output_type": "execute_result"
    }
   ],
   "source": [
    "scaler=MinMaxScaler()\n",
    "x_train=scaler.fit_transform(x_train)\n",
    "x_train"
   ]
  },
  {
   "cell_type": "code",
   "execution_count": 104,
   "metadata": {},
   "outputs": [
    {
     "data": {
      "text/plain": [
       "[11.085547222222221,\n",
       " 5.495643585292022,\n",
       " 3.798858470471522,\n",
       " 3.388859845870716,\n",
       " 2.4046093527712697,\n",
       " 1.8062338860417901,\n",
       " 1.6313585961106791,\n",
       " 1.4390910915292046,\n",
       " 1.1013452492496607]"
      ]
     },
     "execution_count": 104,
     "metadata": {},
     "output_type": "execute_result"
    }
   ],
   "source": [
    "inersia= []\n",
    "\n",
    "k_range= range(1,10) \n",
    "for k in k_range:\n",
    "    km= KMeans(n_clusters=k).fit(x_train)\n",
    "    inersia.append(km.inertia_)\n",
    "inersia\n"
   ]
  },
  {
   "cell_type": "code",
   "execution_count": 105,
   "metadata": {},
   "outputs": [
    {
     "data": {
      "text/plain": [
       "[<matplotlib.lines.Line2D at 0x2c108ca9c90>]"
      ]
     },
     "execution_count": 105,
     "metadata": {},
     "output_type": "execute_result"
    },
    {
     "data": {
      "image/png": "[encoded data removed]",
      "text/plain": [
       "<Figure size 640x480 with 1 Axes>"
      ]
     },
     "metadata": {},
     "output_type": "display_data"
    }
   ],
   "source": [
    "plt.xlabel(\"k\")\n",
    "plt.ylabel(\"Inersia\")\n",
    "plt.title(\"ELBOW METHOD\")\n",
    "plt.grid()\n",
    "plt.plot(k_range,inersia)"
   ]
  },
  {
   "cell_type": "code",
   "execution_count": 106,
   "metadata": {},
   "outputs": [
    {
     "data": {
      "text/plain": [
       "array([0, 0, 1, 0, 0, 1, 1, 0, 0, 0, 1, 1, 0, 1, 1, 1, 0, 0, 0, 1, 0, 1,\n",
       "       0, 1, 1, 0, 1, 0, 1, 1, 0, 0, 0, 0, 1, 0, 0, 0, 0, 0, 1, 0, 1, 1,\n",
       "       0, 1, 1, 0, 1, 1, 1, 0, 1, 1, 1, 1, 1, 0, 0, 0, 0, 0, 0, 0, 1, 1,\n",
       "       0, 1, 1, 1, 0, 0, 0, 0, 1, 0, 1, 0, 0, 0, 1, 1, 1, 0, 0, 0, 1, 0,\n",
       "       0, 1, 1, 0, 1, 1, 1, 1, 0, 0, 0, 1])"
      ]
     },
     "execution_count": 106,
     "metadata": {},
     "output_type": "execute_result"
    }
   ],
   "source": [
    "kmeans=KMeans(n_clusters=2)\n",
    "y_cluster=kmeans.fit_predict(x_train)\n",
    "y_cluster"
   ]
  },
  {
   "cell_type": "code",
   "execution_count": 107,
   "metadata": {},
   "outputs": [],
   "source": [
    "data[\"cluster\"]= y_cluster\n"
   ]
  },
  {
   "cell_type": "code",
   "execution_count": 108,
   "metadata": {},
   "outputs": [
    {
     "data": {
      "text/plain": [
       "array([[0.67924528, 0.35157233],\n",
       "       [0.71170213, 0.82411348]])"
      ]
     },
     "execution_count": 108,
     "metadata": {},
     "output_type": "execute_result"
    }
   ],
   "source": [
    "kmeans.cluster_centers_"
   ]
  },
  {
   "cell_type": "code",
   "execution_count": 109,
   "metadata": {},
   "outputs": [
    {
     "name": "stderr",
     "output_type": "stream",
     "text": [
      "C:\\Users\\puguh\\AppData\\Local\\Temp\\ipykernel_11336\\3714805581.py:3: UserWarning: No data for colormapping provided via 'c'. Parameters 'cmap' will be ignored\n",
      "  plt.scatter(kmeans.cluster_centers_[0,0],kmeans.cluster_centers_[0,1],cmap='rainbow',marker='+',s=150)\n",
      "C:\\Users\\puguh\\AppData\\Local\\Temp\\ipykernel_11336\\3714805581.py:4: UserWarning: No data for colormapping provided via 'c'. Parameters 'cmap' will be ignored\n",
      "  plt.scatter(kmeans.cluster_centers_[1,0],kmeans.cluster_centers_[1,1],cmap='rainbow',marker='+',s=150)\n",
      "C:\\Users\\puguh\\AppData\\Local\\Temp\\ipykernel_11336\\3714805581.py:7: UserWarning: No artists with labels found to put in legend.  Note that artists whose label start with an underscore are ignored when legend() is called with no argument.\n",
      "  plt.legend()\n"
     ]
    },
    {
     "data": {
      "text/plain": [
       "Text(0.5, 1.0, 'SEBARAN NILAI')"
      ]
     },
     "execution_count": 109,
     "metadata": {},
     "output_type": "execute_result"
    },
    {
     "data": {
      "image/png": "[encoded data removed]",
      "text/plain": [
       "<Figure size 1000x500 with 1 Axes>"
      ]
     },
     "metadata": {},
     "output_type": "display_data"
    }
   ],
   "source": [
    "plt.figure(figsize=(10,5))\n",
    "plt.scatter(x_train[:,0],x_train[:,1],c=kmeans.labels_)\n",
    "plt.scatter(kmeans.cluster_centers_[0,0],kmeans.cluster_centers_[0,1],cmap='rainbow',marker='+',s=150)\n",
    "plt.scatter(kmeans.cluster_centers_[1,0],kmeans.cluster_centers_[1,1],cmap='rainbow',marker='+',s=150)\n",
    "plt.xlabel(\"UTS\")\n",
    "plt.ylabel('UAS')\n",
    "plt.legend()\n",
    "plt.title('SEBARAN NILAI')"
   ]
  }
 ],
 "metadata": {
  "kernelspec": {
   "display_name": "Python 3",
   "language": "python",
   "name": "python3"
  },
  "language_info": {
   "codemirror_mode": {
    "name": "ipython",
    "version": 3
   },
   "file_extension": ".py",
   "mimetype": "text/x-python",
   "name": "python",
   "nbconvert_exporter": "python",
   "pygments_lexer": "ipython3",
   "version": "3.11.9"
  }
 },
 "nbformat": 4,
 "nbformat_minor": 2
}
