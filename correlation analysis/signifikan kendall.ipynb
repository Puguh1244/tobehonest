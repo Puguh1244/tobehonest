{
 "cells": [
  {
   "cell_type": "code",
   "execution_count": 35,
   "metadata": {},
   "outputs": [
    {
     "data": {
      "text/html": [
       "<div>\n",
       "<style scoped>\n",
       "    .dataframe tbody tr th:only-of-type {\n",
       "        vertical-align: middle;\n",
       "    }\n",
       "\n",
       "    .dataframe tbody tr th {\n",
       "        vertical-align: top;\n",
       "    }\n",
       "\n",
       "    .dataframe thead th {\n",
       "        text-align: right;\n",
       "    }\n",
       "</style>\n",
       "<table border=\"1\" class=\"dataframe\">\n",
       "  <thead>\n",
       "    <tr style=\"text-align: right;\">\n",
       "      <th></th>\n",
       "      <th>Faktor Jalan (kasus)</th>\n",
       "      <th>Faktor Kendaraan (kasus)</th>\n",
       "    </tr>\n",
       "  </thead>\n",
       "  <tbody>\n",
       "    <tr>\n",
       "      <th>0</th>\n",
       "      <td>31</td>\n",
       "      <td>12</td>\n",
       "    </tr>\n",
       "    <tr>\n",
       "      <th>1</th>\n",
       "      <td>23</td>\n",
       "      <td>15</td>\n",
       "    </tr>\n",
       "    <tr>\n",
       "      <th>2</th>\n",
       "      <td>27</td>\n",
       "      <td>14</td>\n",
       "    </tr>\n",
       "    <tr>\n",
       "      <th>3</th>\n",
       "      <td>33</td>\n",
       "      <td>9</td>\n",
       "    </tr>\n",
       "    <tr>\n",
       "      <th>4</th>\n",
       "      <td>31</td>\n",
       "      <td>18</td>\n",
       "    </tr>\n",
       "    <tr>\n",
       "      <th>5</th>\n",
       "      <td>20</td>\n",
       "      <td>11</td>\n",
       "    </tr>\n",
       "    <tr>\n",
       "      <th>6</th>\n",
       "      <td>30</td>\n",
       "      <td>10</td>\n",
       "    </tr>\n",
       "    <tr>\n",
       "      <th>7</th>\n",
       "      <td>27</td>\n",
       "      <td>11</td>\n",
       "    </tr>\n",
       "    <tr>\n",
       "      <th>8</th>\n",
       "      <td>20</td>\n",
       "      <td>13</td>\n",
       "    </tr>\n",
       "    <tr>\n",
       "      <th>9</th>\n",
       "      <td>17</td>\n",
       "      <td>9</td>\n",
       "    </tr>\n",
       "    <tr>\n",
       "      <th>10</th>\n",
       "      <td>32</td>\n",
       "      <td>21</td>\n",
       "    </tr>\n",
       "    <tr>\n",
       "      <th>11</th>\n",
       "      <td>29</td>\n",
       "      <td>14</td>\n",
       "    </tr>\n",
       "  </tbody>\n",
       "</table>\n",
       "</div>"
      ],
      "text/plain": [
       "    Faktor Jalan (kasus)   Faktor Kendaraan (kasus) \n",
       "0                      31                         12\n",
       "1                      23                         15\n",
       "2                      27                         14\n",
       "3                      33                          9\n",
       "4                      31                         18\n",
       "5                      20                         11\n",
       "6                      30                         10\n",
       "7                      27                         11\n",
       "8                      20                         13\n",
       "9                      17                          9\n",
       "10                     32                         21\n",
       "11                     29                         14"
      ]
     },
     "execution_count": 35,
     "metadata": {},
     "output_type": "execute_result"
    }
   ],
   "source": [
    "import pandas as pd\n",
    "import numpy as np\n",
    "import matplotlib.pyplot as plt\n",
    "import seaborn as sns\n",
    "from sklearn.model_selection import train_test_split\n",
    "from pandas.core.common import random_state\n",
    "from sklearn.linear_model import LinearRegression\n",
    "import math\n",
    "from scipy.stats import kendalltau\n",
    "\n",
    "data = pd.read_csv('crash2.csv')\n",
    "data2=data.iloc[:,[2,3]]\n",
    "data2"
   ]
  },
  {
   "cell_type": "code",
   "execution_count": 62,
   "metadata": {},
   "outputs": [
    {
     "data": {
      "text/plain": [
       "1.5762933501922816"
      ]
     },
     "execution_count": 62,
     "metadata": {},
     "output_type": "execute_result"
    }
   ],
   "source": [
    "kendal=0.190476\n",
    "n=12\n",
    "#atas\n",
    "cara1=n-1\n",
    "cara2=n*cara1\n",
    "cara3=cara2/2\n",
    "cara4= np.sqrt(cara3)\n",
    "cara5=cara4*kendal\n",
    "#bawah\n",
    "bawah1=kendal*kendal\n",
    "bawah2=1-bawah1\n",
    "bawah3= np.sqrt(bawah2)\n",
    "\n",
    "bagi=cara5/bawah3\n",
    "bagi\n"
   ]
  },
  {
   "cell_type": "code",
   "execution_count": 63,
   "metadata": {},
   "outputs": [
    {
     "name": "stdout",
     "output_type": "stream",
     "text": [
      "Nilai Kendall's Tau: 0.190476\n",
      "Nilai Z: 1.5762933501922816\n"
     ]
    }
   ],
   "source": [
    "from scipy.stats import kendalltau\n",
    "import numpy as np\n",
    "\n",
    "# Pilih dua kolom dari DataFrame\n",
    "x = data2[\"Faktor Jalan (kasus) \"]\n",
    "y = data2[\"Faktor Kendaraan (kasus) \"]\n",
    "\n",
    "# Hitung nilai Kendall's Tau\n",
    "tau=0.190476\n",
    "\n",
    "# Jumlah observasi\n",
    "n = len(x)\n",
    "\n",
    "# Hitung nilai Z\n",
    "z = tau * np.sqrt(n * (n - 1) / 2) / np.sqrt(1 - tau**2)\n",
    "\n",
    "# Output hasil\n",
    "print(f\"Nilai Kendall's Tau: {tau}\")\n",
    "print(f\"Nilai Z: {z}\")\n"
   ]
  },
  {
   "cell_type": "markdown",
   "metadata": {},
   "source": []
  }
 ],
 "metadata": {
  "kernelspec": {
   "display_name": "Python 3",
   "language": "python",
   "name": "python3"
  },
  "language_info": {
   "codemirror_mode": {
    "name": "ipython",
    "version": 3
   },
   "file_extension": ".py",
   "mimetype": "text/x-python",
   "name": "python",
   "nbconvert_exporter": "python",
   "pygments_lexer": "ipython3",
   "version": "3.11.9"
  }
 },
 "nbformat": 4,
 "nbformat_minor": 2
}
