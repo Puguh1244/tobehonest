{
 "cells": [
  {
   "cell_type": "code",
   "execution_count": 1,
   "metadata": {},
   "outputs": [
    {
     "data": {
      "text/html": [
       "<div>\n",
       "<style scoped>\n",
       "    .dataframe tbody tr th:only-of-type {\n",
       "        vertical-align: middle;\n",
       "    }\n",
       "\n",
       "    .dataframe tbody tr th {\n",
       "        vertical-align: top;\n",
       "    }\n",
       "\n",
       "    .dataframe thead th {\n",
       "        text-align: right;\n",
       "    }\n",
       "</style>\n",
       "<table border=\"1\" class=\"dataframe\">\n",
       "  <thead>\n",
       "    <tr style=\"text-align: right;\">\n",
       "      <th></th>\n",
       "      <th>Jumlah Kecelakaan Lalu Lintas (kasus)</th>\n",
       "      <th>Faktor Pengemudi (orang)</th>\n",
       "      <th>Faktor Jalan (kasus)</th>\n",
       "      <th>Faktor Kendaraan (kasus)</th>\n",
       "      <th>Pertumbuhan jumlah kendaraan bermotor (unit)</th>\n",
       "    </tr>\n",
       "  </thead>\n",
       "  <tbody>\n",
       "    <tr>\n",
       "      <th>0</th>\n",
       "      <td>107</td>\n",
       "      <td>56</td>\n",
       "      <td>31</td>\n",
       "      <td>12</td>\n",
       "      <td>873</td>\n",
       "    </tr>\n",
       "    <tr>\n",
       "      <th>1</th>\n",
       "      <td>113</td>\n",
       "      <td>63</td>\n",
       "      <td>23</td>\n",
       "      <td>15</td>\n",
       "      <td>402</td>\n",
       "    </tr>\n",
       "    <tr>\n",
       "      <th>2</th>\n",
       "      <td>117</td>\n",
       "      <td>60</td>\n",
       "      <td>27</td>\n",
       "      <td>14</td>\n",
       "      <td>538</td>\n",
       "    </tr>\n",
       "    <tr>\n",
       "      <th>3</th>\n",
       "      <td>129</td>\n",
       "      <td>61</td>\n",
       "      <td>33</td>\n",
       "      <td>9</td>\n",
       "      <td>432</td>\n",
       "    </tr>\n",
       "    <tr>\n",
       "      <th>4</th>\n",
       "      <td>137</td>\n",
       "      <td>77</td>\n",
       "      <td>31</td>\n",
       "      <td>18</td>\n",
       "      <td>746</td>\n",
       "    </tr>\n",
       "    <tr>\n",
       "      <th>5</th>\n",
       "      <td>99</td>\n",
       "      <td>54</td>\n",
       "      <td>20</td>\n",
       "      <td>11</td>\n",
       "      <td>393</td>\n",
       "    </tr>\n",
       "    <tr>\n",
       "      <th>6</th>\n",
       "      <td>112</td>\n",
       "      <td>56</td>\n",
       "      <td>30</td>\n",
       "      <td>10</td>\n",
       "      <td>746</td>\n",
       "    </tr>\n",
       "    <tr>\n",
       "      <th>7</th>\n",
       "      <td>114</td>\n",
       "      <td>56</td>\n",
       "      <td>27</td>\n",
       "      <td>11</td>\n",
       "      <td>799</td>\n",
       "    </tr>\n",
       "    <tr>\n",
       "      <th>8</th>\n",
       "      <td>126</td>\n",
       "      <td>60</td>\n",
       "      <td>20</td>\n",
       "      <td>13</td>\n",
       "      <td>516</td>\n",
       "    </tr>\n",
       "    <tr>\n",
       "      <th>9</th>\n",
       "      <td>101</td>\n",
       "      <td>65</td>\n",
       "      <td>17</td>\n",
       "      <td>9</td>\n",
       "      <td>493</td>\n",
       "    </tr>\n",
       "    <tr>\n",
       "      <th>10</th>\n",
       "      <td>116</td>\n",
       "      <td>56</td>\n",
       "      <td>32</td>\n",
       "      <td>21</td>\n",
       "      <td>871</td>\n",
       "    </tr>\n",
       "    <tr>\n",
       "      <th>11</th>\n",
       "      <td>103</td>\n",
       "      <td>59</td>\n",
       "      <td>29</td>\n",
       "      <td>14</td>\n",
       "      <td>904</td>\n",
       "    </tr>\n",
       "  </tbody>\n",
       "</table>\n",
       "</div>"
      ],
      "text/plain": [
       "    Jumlah Kecelakaan Lalu Lintas (kasus)   Faktor Pengemudi (orang)   \\\n",
       "0                                      107                         56   \n",
       "1                                      113                         63   \n",
       "2                                      117                         60   \n",
       "3                                      129                         61   \n",
       "4                                      137                         77   \n",
       "5                                       99                         54   \n",
       "6                                      112                         56   \n",
       "7                                      114                         56   \n",
       "8                                      126                         60   \n",
       "9                                      101                         65   \n",
       "10                                     116                         56   \n",
       "11                                     103                         59   \n",
       "\n",
       "    Faktor Jalan (kasus)   Faktor Kendaraan (kasus)   \\\n",
       "0                      31                         12   \n",
       "1                      23                         15   \n",
       "2                      27                         14   \n",
       "3                      33                          9   \n",
       "4                      31                         18   \n",
       "5                      20                         11   \n",
       "6                      30                         10   \n",
       "7                      27                         11   \n",
       "8                      20                         13   \n",
       "9                      17                          9   \n",
       "10                     32                         21   \n",
       "11                     29                         14   \n",
       "\n",
       "    Pertumbuhan jumlah kendaraan bermotor (unit)  \n",
       "0                                            873  \n",
       "1                                            402  \n",
       "2                                            538  \n",
       "3                                            432  \n",
       "4                                            746  \n",
       "5                                            393  \n",
       "6                                            746  \n",
       "7                                            799  \n",
       "8                                            516  \n",
       "9                                            493  \n",
       "10                                           871  \n",
       "11                                           904  "
      ]
     },
     "execution_count": 1,
     "metadata": {},
     "output_type": "execute_result"
    }
   ],
   "source": [
    "import pandas as pd\n",
    "import numpy as np\n",
    "import matplotlib.pyplot as plt\n",
    "import seaborn as sns\n",
    "from sklearn.model_selection import train_test_split\n",
    "from pandas.core.common import random_state\n",
    "from sklearn.linear_model import LinearRegression\n",
    "import math\n",
    "\n",
    "data = pd.read_csv('crash2.csv')\n",
    "data"
   ]
  },
  {
   "cell_type": "code",
   "execution_count": 2,
   "metadata": {},
   "outputs": [
    {
     "data": {
      "text/html": [
       "<div>\n",
       "<style scoped>\n",
       "    .dataframe tbody tr th:only-of-type {\n",
       "        vertical-align: middle;\n",
       "    }\n",
       "\n",
       "    .dataframe tbody tr th {\n",
       "        vertical-align: top;\n",
       "    }\n",
       "\n",
       "    .dataframe thead th {\n",
       "        text-align: right;\n",
       "    }\n",
       "</style>\n",
       "<table border=\"1\" class=\"dataframe\">\n",
       "  <thead>\n",
       "    <tr style=\"text-align: right;\">\n",
       "      <th></th>\n",
       "      <th>Jumlah Kecelakaan Lalu Lintas (kasus)</th>\n",
       "      <th>Pertumbuhan jumlah kendaraan bermotor (unit)</th>\n",
       "    </tr>\n",
       "  </thead>\n",
       "  <tbody>\n",
       "    <tr>\n",
       "      <th>0</th>\n",
       "      <td>107</td>\n",
       "      <td>873</td>\n",
       "    </tr>\n",
       "    <tr>\n",
       "      <th>1</th>\n",
       "      <td>113</td>\n",
       "      <td>402</td>\n",
       "    </tr>\n",
       "    <tr>\n",
       "      <th>2</th>\n",
       "      <td>117</td>\n",
       "      <td>538</td>\n",
       "    </tr>\n",
       "    <tr>\n",
       "      <th>3</th>\n",
       "      <td>129</td>\n",
       "      <td>432</td>\n",
       "    </tr>\n",
       "    <tr>\n",
       "      <th>4</th>\n",
       "      <td>137</td>\n",
       "      <td>746</td>\n",
       "    </tr>\n",
       "    <tr>\n",
       "      <th>5</th>\n",
       "      <td>99</td>\n",
       "      <td>393</td>\n",
       "    </tr>\n",
       "    <tr>\n",
       "      <th>6</th>\n",
       "      <td>112</td>\n",
       "      <td>746</td>\n",
       "    </tr>\n",
       "    <tr>\n",
       "      <th>7</th>\n",
       "      <td>114</td>\n",
       "      <td>799</td>\n",
       "    </tr>\n",
       "    <tr>\n",
       "      <th>8</th>\n",
       "      <td>126</td>\n",
       "      <td>516</td>\n",
       "    </tr>\n",
       "    <tr>\n",
       "      <th>9</th>\n",
       "      <td>101</td>\n",
       "      <td>493</td>\n",
       "    </tr>\n",
       "    <tr>\n",
       "      <th>10</th>\n",
       "      <td>116</td>\n",
       "      <td>871</td>\n",
       "    </tr>\n",
       "    <tr>\n",
       "      <th>11</th>\n",
       "      <td>103</td>\n",
       "      <td>904</td>\n",
       "    </tr>\n",
       "  </tbody>\n",
       "</table>\n",
       "</div>"
      ],
      "text/plain": [
       "    Jumlah Kecelakaan Lalu Lintas (kasus)   \\\n",
       "0                                      107   \n",
       "1                                      113   \n",
       "2                                      117   \n",
       "3                                      129   \n",
       "4                                      137   \n",
       "5                                       99   \n",
       "6                                      112   \n",
       "7                                      114   \n",
       "8                                      126   \n",
       "9                                      101   \n",
       "10                                     116   \n",
       "11                                     103   \n",
       "\n",
       "    Pertumbuhan jumlah kendaraan bermotor (unit)  \n",
       "0                                            873  \n",
       "1                                            402  \n",
       "2                                            538  \n",
       "3                                            432  \n",
       "4                                            746  \n",
       "5                                            393  \n",
       "6                                            746  \n",
       "7                                            799  \n",
       "8                                            516  \n",
       "9                                            493  \n",
       "10                                           871  \n",
       "11                                           904  "
      ]
     },
     "execution_count": 2,
     "metadata": {},
     "output_type": "execute_result"
    }
   ],
   "source": [
    "\"\"\"\"\n",
    "REVENUE X GROWTH\n",
    "\"\"\"\n",
    "# MENGAMBIL DATA JUMLAH DAN PERTUMBUHAN \n",
    "data2=data.iloc[:,[0,4]]\n",
    "data2"
   ]
  },
  {
   "cell_type": "code",
   "execution_count": 3,
   "metadata": {},
   "outputs": [
    {
     "name": "stdout",
     "output_type": "stream",
     "text": [
      "Jumlah Kecelakaan Lalu Lintas (kasus)           114.50\n",
      "Pertumbuhan jumlah kendaraan bermotor (unit)    642.75\n",
      "dtype: float64\n"
     ]
    }
   ],
   "source": [
    "# Mendapatkan mean dari kolom \n",
    "mean_jumlah = data2.mean()\n",
    "print(mean_jumlah)\n"
   ]
  },
  {
   "cell_type": "code",
   "execution_count": 4,
   "metadata": {},
   "outputs": [
    {
     "name": "stdout",
     "output_type": "stream",
     "text": [
      "0     -7.5\n",
      "1     -1.5\n",
      "2      2.5\n",
      "3     14.5\n",
      "4     22.5\n",
      "5    -15.5\n",
      "6     -2.5\n",
      "7     -0.5\n",
      "8     11.5\n",
      "9    -13.5\n",
      "10     1.5\n",
      "11   -11.5\n",
      "Name: Jumlah Kecelakaan Lalu Lintas (kasus) , dtype: float64\n",
      "0     230.25\n",
      "1    -240.75\n",
      "2    -104.75\n",
      "3    -210.75\n",
      "4     103.25\n",
      "5    -249.75\n",
      "6     103.25\n",
      "7     156.25\n",
      "8    -126.75\n",
      "9    -149.75\n",
      "10    228.25\n",
      "11    261.25\n",
      "Name: Pertumbuhan jumlah kendaraan bermotor (unit), dtype: float64\n"
     ]
    }
   ],
   "source": [
    "mean= data2[\"Jumlah Kecelakaan Lalu Lintas (kasus) \"]- 114.50\n",
    "\n",
    "mean2= data2[\"Pertumbuhan jumlah kendaraan bermotor (unit)\"]-642.75\n",
    "print(mean)\n",
    "\n",
    "print(mean2)"
   ]
  },
  {
   "cell_type": "code",
   "execution_count": 5,
   "metadata": {},
   "outputs": [
    {
     "name": "stdout",
     "output_type": "stream",
     "text": [
      "0      56.25\n",
      "1       2.25\n",
      "2       6.25\n",
      "3     210.25\n",
      "4     506.25\n",
      "5     240.25\n",
      "6       6.25\n",
      "7       0.25\n",
      "8     132.25\n",
      "9     182.25\n",
      "10      2.25\n",
      "11    132.25\n",
      "Name: Jumlah Kecelakaan Lalu Lintas (kasus) , dtype: float64\n",
      "0     53015.0625\n",
      "1     57960.5625\n",
      "2     10972.5625\n",
      "3     44415.5625\n",
      "4     10660.5625\n",
      "5     62375.0625\n",
      "6     10660.5625\n",
      "7     24414.0625\n",
      "8     16065.5625\n",
      "9     22425.0625\n",
      "10    52098.0625\n",
      "11    68251.5625\n",
      "Name: Pertumbuhan jumlah kendaraan bermotor (unit), dtype: float64\n"
     ]
    }
   ],
   "source": [
    "pangkat=mean**2\n",
    "pangkat2=mean2**2\n",
    "\n",
    "print(pangkat)\n",
    "print(pangkat2)\n",
    "\n"
   ]
  },
  {
   "cell_type": "code",
   "execution_count": 6,
   "metadata": {},
   "outputs": [
    {
     "name": "stdout",
     "output_type": "stream",
     "text": [
      "Sxx 1477.0\n",
      "Syy 433314.25\n"
     ]
    }
   ],
   "source": [
    "sum=pangkat.sum()\n",
    "sum2=pangkat2.sum()\n",
    "\n",
    "print('Sxx',sum)\n",
    "print('Syy',sum2)"
   ]
  },
  {
   "cell_type": "code",
   "execution_count": 7,
   "metadata": {},
   "outputs": [
    {
     "data": {
      "text/plain": [
       "-923.5"
      ]
     },
     "execution_count": 7,
     "metadata": {},
     "output_type": "execute_result"
    }
   ],
   "source": [
    "kali=mean*mean2\n",
    "kali.sum()\n",
    "\n"
   ]
  },
  {
   "cell_type": "code",
   "execution_count": 8,
   "metadata": {},
   "outputs": [
    {
     "data": {
      "text/plain": [
       "640005147.25"
      ]
     },
     "execution_count": 8,
     "metadata": {},
     "output_type": "execute_result"
    }
   ],
   "source": [
    "akar=sum*sum2\n",
    "akar"
   ]
  },
  {
   "cell_type": "code",
   "execution_count": 9,
   "metadata": {},
   "outputs": [
    {
     "name": "stdout",
     "output_type": "stream",
     "text": [
      "Akar kuadrat dari 640005147.25 adalah 25298.32301260303\n"
     ]
    }
   ],
   "source": [
    "import math\n",
    "\n",
    "nilai = 640005147.25\n",
    "akar_kuadrat = math.sqrt(nilai)\n",
    "print(f'Akar kuadrat dari {nilai} adalah {akar_kuadrat}')\n"
   ]
  },
  {
   "cell_type": "code",
   "execution_count": 10,
   "metadata": {},
   "outputs": [
    {
     "data": {
      "text/plain": [
       "-0.036504395945135736"
      ]
     },
     "execution_count": 10,
     "metadata": {},
     "output_type": "execute_result"
    }
   ],
   "source": [
    "bagi=-923.5/25298.32301260303\n",
    "bagi"
   ]
  },
  {
   "cell_type": "code",
   "execution_count": 11,
   "metadata": {},
   "outputs": [
    {
     "data": {
      "text/plain": [
       "-0.03650439594513573"
      ]
     },
     "execution_count": 11,
     "metadata": {},
     "output_type": "execute_result"
    }
   ],
   "source": [
    "korelasi = data2[\"Jumlah Kecelakaan Lalu Lintas (kasus) \"].corr(data2[\"Pertumbuhan jumlah kendaraan bermotor (unit)\"])\n",
    "korelasi\n"
   ]
  },
  {
   "cell_type": "code",
   "execution_count": 12,
   "metadata": {},
   "outputs": [
    {
     "name": "stdout",
     "output_type": "stream",
     "text": [
      "matrix correlation\n",
      "                                              Jumlah Kecelakaan Lalu Lintas (kasus)   \\\n",
      "Jumlah Kecelakaan Lalu Lintas (kasus)                                       1.000000   \n",
      "Faktor Pengemudi (orang)                                                    0.588056   \n",
      "Faktor Jalan (kasus)                                                        0.427080   \n",
      "Faktor Kendaraan (kasus)                                                    0.336110   \n",
      "Pertumbuhan jumlah kendaraan bermotor (unit)                               -0.036504   \n",
      "\n",
      "                                              Faktor Pengemudi (orang)   \\\n",
      "Jumlah Kecelakaan Lalu Lintas (kasus)                          0.588056   \n",
      "Faktor Pengemudi (orang)                                       1.000000   \n",
      "Faktor Jalan (kasus)                                           0.013598   \n",
      "Faktor Kendaraan (kasus)                                       0.281303   \n",
      "Pertumbuhan jumlah kendaraan bermotor (unit)                  -0.115149   \n",
      "\n",
      "                                              Faktor Jalan (kasus)   \\\n",
      "Jumlah Kecelakaan Lalu Lintas (kasus)                      0.427080   \n",
      "Faktor Pengemudi (orang)                                   0.013598   \n",
      "Faktor Jalan (kasus)                                       1.000000   \n",
      "Faktor Kendaraan (kasus)                                   0.331944   \n",
      "Pertumbuhan jumlah kendaraan bermotor (unit)               0.607530   \n",
      "\n",
      "                                              Faktor Kendaraan (kasus)   \\\n",
      "Jumlah Kecelakaan Lalu Lintas (kasus)                          0.336110   \n",
      "Faktor Pengemudi (orang)                                       0.281303   \n",
      "Faktor Jalan (kasus)                                           0.331944   \n",
      "Faktor Kendaraan (kasus)                                       1.000000   \n",
      "Pertumbuhan jumlah kendaraan bermotor (unit)                   0.391991   \n",
      "\n",
      "                                              Pertumbuhan jumlah kendaraan bermotor (unit)  \n",
      "Jumlah Kecelakaan Lalu Lintas (kasus)                                            -0.036504  \n",
      "Faktor Pengemudi (orang)                                                         -0.115149  \n",
      "Faktor Jalan (kasus)                                                              0.607530  \n",
      "Faktor Kendaraan (kasus)                                                          0.391991  \n",
      "Pertumbuhan jumlah kendaraan bermotor (unit)                                      1.000000  \n"
     ]
    }
   ],
   "source": [
    "# jika ingin menghitung semua persamaan datanya kita gunakan saja .corr()\n",
    "\n",
    "data\n",
    "\n",
    "correlation_matrix = data.corr(method='pearson')\n",
    "print('matrix correlation')\n",
    "print(correlation_matrix)"
   ]
  },
  {
   "cell_type": "code",
   "execution_count": 13,
   "metadata": {},
   "outputs": [
    {
     "data": {
      "image/png": "[encoded data removed]",
      "text/plain": [
       "<IPython.core.display.Image object>"
      ]
     },
     "execution_count": 13,
     "metadata": {},
     "output_type": "execute_result"
    }
   ],
   "source": [
    "from IPython.display import Image\n",
    "\n",
    "# Menampilkan gambar\n",
    "image_path = \"korelasi_pearson.png\"\n",
    "Image(filename=image_path)\n"
   ]
  }
 ],
 "metadata": {
  "kernelspec": {
   "display_name": "Python 3",
   "language": "python",
   "name": "python3"
  },
  "language_info": {
   "codemirror_mode": {
    "name": "ipython",
    "version": 3
   },
   "file_extension": ".py",
   "mimetype": "text/x-python",
   "name": "python",
   "nbconvert_exporter": "python",
   "pygments_lexer": "ipython3",
   "version": "3.11.9"
  }
 },
 "nbformat": 4,
 "nbformat_minor": 2
}
