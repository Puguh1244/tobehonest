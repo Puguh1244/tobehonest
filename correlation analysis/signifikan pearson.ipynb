{
 "cells": [
  {
   "cell_type": "code",
   "execution_count": null,
   "metadata": {},
   "outputs": [],
   "source": [
    "\"\"\"\"\n",
    "UNTUK MENGHITUNG NILAI SIGNIFIKAN NYA MAKA KITA AKAN MEMAKAI RUMUS MENGGUNAKAN TABEL DAN TIDAK\n",
    "UNTUK DAPAT MEMBANDINGKAN DATA ITU APAKAH MENOLAK H0 ATAU TIDAK\n",
    "\"\"\""
   ]
  },
  {
   "cell_type": "code",
   "execution_count": 1,
   "metadata": {},
   "outputs": [
    {
     "data": {
      "text/html": [
       "<div>\n",
       "<style scoped>\n",
       "    .dataframe tbody tr th:only-of-type {\n",
       "        vertical-align: middle;\n",
       "    }\n",
       "\n",
       "    .dataframe tbody tr th {\n",
       "        vertical-align: top;\n",
       "    }\n",
       "\n",
       "    .dataframe thead th {\n",
       "        text-align: right;\n",
       "    }\n",
       "</style>\n",
       "<table border=\"1\" class=\"dataframe\">\n",
       "  <thead>\n",
       "    <tr style=\"text-align: right;\">\n",
       "      <th></th>\n",
       "      <th>Jumlah Kecelakaan Lalu Lintas (kasus)</th>\n",
       "      <th>Faktor Pengemudi (orang)</th>\n",
       "      <th>Faktor Jalan (kasus)</th>\n",
       "      <th>Faktor Kendaraan (kasus)</th>\n",
       "      <th>Pertumbuhan jumlah kendaraan bermotor (unit)</th>\n",
       "    </tr>\n",
       "  </thead>\n",
       "  <tbody>\n",
       "    <tr>\n",
       "      <th>0</th>\n",
       "      <td>107</td>\n",
       "      <td>56</td>\n",
       "      <td>31</td>\n",
       "      <td>12</td>\n",
       "      <td>873</td>\n",
       "    </tr>\n",
       "    <tr>\n",
       "      <th>1</th>\n",
       "      <td>113</td>\n",
       "      <td>63</td>\n",
       "      <td>23</td>\n",
       "      <td>15</td>\n",
       "      <td>402</td>\n",
       "    </tr>\n",
       "    <tr>\n",
       "      <th>2</th>\n",
       "      <td>117</td>\n",
       "      <td>60</td>\n",
       "      <td>27</td>\n",
       "      <td>14</td>\n",
       "      <td>538</td>\n",
       "    </tr>\n",
       "    <tr>\n",
       "      <th>3</th>\n",
       "      <td>129</td>\n",
       "      <td>61</td>\n",
       "      <td>33</td>\n",
       "      <td>9</td>\n",
       "      <td>432</td>\n",
       "    </tr>\n",
       "    <tr>\n",
       "      <th>4</th>\n",
       "      <td>137</td>\n",
       "      <td>77</td>\n",
       "      <td>31</td>\n",
       "      <td>18</td>\n",
       "      <td>746</td>\n",
       "    </tr>\n",
       "    <tr>\n",
       "      <th>5</th>\n",
       "      <td>99</td>\n",
       "      <td>54</td>\n",
       "      <td>20</td>\n",
       "      <td>11</td>\n",
       "      <td>393</td>\n",
       "    </tr>\n",
       "    <tr>\n",
       "      <th>6</th>\n",
       "      <td>112</td>\n",
       "      <td>56</td>\n",
       "      <td>30</td>\n",
       "      <td>10</td>\n",
       "      <td>746</td>\n",
       "    </tr>\n",
       "    <tr>\n",
       "      <th>7</th>\n",
       "      <td>114</td>\n",
       "      <td>56</td>\n",
       "      <td>27</td>\n",
       "      <td>11</td>\n",
       "      <td>799</td>\n",
       "    </tr>\n",
       "    <tr>\n",
       "      <th>8</th>\n",
       "      <td>126</td>\n",
       "      <td>60</td>\n",
       "      <td>20</td>\n",
       "      <td>13</td>\n",
       "      <td>516</td>\n",
       "    </tr>\n",
       "    <tr>\n",
       "      <th>9</th>\n",
       "      <td>101</td>\n",
       "      <td>65</td>\n",
       "      <td>17</td>\n",
       "      <td>9</td>\n",
       "      <td>493</td>\n",
       "    </tr>\n",
       "    <tr>\n",
       "      <th>10</th>\n",
       "      <td>116</td>\n",
       "      <td>56</td>\n",
       "      <td>32</td>\n",
       "      <td>21</td>\n",
       "      <td>871</td>\n",
       "    </tr>\n",
       "    <tr>\n",
       "      <th>11</th>\n",
       "      <td>103</td>\n",
       "      <td>59</td>\n",
       "      <td>29</td>\n",
       "      <td>14</td>\n",
       "      <td>904</td>\n",
       "    </tr>\n",
       "  </tbody>\n",
       "</table>\n",
       "</div>"
      ],
      "text/plain": [
       "    Jumlah Kecelakaan Lalu Lintas (kasus)   Faktor Pengemudi (orang)   \\\n",
       "0                                      107                         56   \n",
       "1                                      113                         63   \n",
       "2                                      117                         60   \n",
       "3                                      129                         61   \n",
       "4                                      137                         77   \n",
       "5                                       99                         54   \n",
       "6                                      112                         56   \n",
       "7                                      114                         56   \n",
       "8                                      126                         60   \n",
       "9                                      101                         65   \n",
       "10                                     116                         56   \n",
       "11                                     103                         59   \n",
       "\n",
       "    Faktor Jalan (kasus)   Faktor Kendaraan (kasus)   \\\n",
       "0                      31                         12   \n",
       "1                      23                         15   \n",
       "2                      27                         14   \n",
       "3                      33                          9   \n",
       "4                      31                         18   \n",
       "5                      20                         11   \n",
       "6                      30                         10   \n",
       "7                      27                         11   \n",
       "8                      20                         13   \n",
       "9                      17                          9   \n",
       "10                     32                         21   \n",
       "11                     29                         14   \n",
       "\n",
       "    Pertumbuhan jumlah kendaraan bermotor (unit)  \n",
       "0                                            873  \n",
       "1                                            402  \n",
       "2                                            538  \n",
       "3                                            432  \n",
       "4                                            746  \n",
       "5                                            393  \n",
       "6                                            746  \n",
       "7                                            799  \n",
       "8                                            516  \n",
       "9                                            493  \n",
       "10                                           871  \n",
       "11                                           904  "
      ]
     },
     "execution_count": 1,
     "metadata": {},
     "output_type": "execute_result"
    }
   ],
   "source": [
    "# DALAM KORELASI PEARSON KITA DAPATKAN r=-0.036504 dan jumlah n=14 kita akan menggunakan nilai alpha=0,05\n",
    "\n",
    "import pandas as pd\n",
    "import numpy as np\n",
    "import matplotlib.pyplot as plt\n",
    "import seaborn as sns\n",
    "from sklearn.model_selection import train_test_split\n",
    "from pandas.core.common import random_state\n",
    "from sklearn.linear_model import LinearRegression\n",
    "import math\n",
    "\n",
    "data = pd.read_csv('crash2.csv')\n",
    "data\n"
   ]
  },
  {
   "cell_type": "code",
   "execution_count": 3,
   "metadata": {},
   "outputs": [
    {
     "data": {
      "text/plain": [
       "-0.03650439594513573"
      ]
     },
     "execution_count": 3,
     "metadata": {},
     "output_type": "execute_result"
    }
   ],
   "source": [
    "# kita ambil korelasi pearson dengan rumus library dengan membandingkan antara jumlah dan pertumbuhan\n",
    "data2=data.iloc[:,[0,4]]\n",
    "data2\n",
    "\n",
    "korelasi = data2[\"Jumlah Kecelakaan Lalu Lintas (kasus) \"].corr(data2[\"Pertumbuhan jumlah kendaraan bermotor (unit)\"])\n",
    "korelasi"
   ]
  },
  {
   "cell_type": "code",
   "execution_count": 16,
   "metadata": {},
   "outputs": [
    {
     "data": {
      "text/plain": [
       "-0.12653927633974701"
      ]
     },
     "execution_count": 16,
     "metadata": {},
     "output_type": "execute_result"
    }
   ],
   "source": [
    "\"\"\" Lalu kita kurangi n dengan (n-2), hasilnya kita akarkan dan dikalikan\n",
    "    dengan r yang ada, yaitu -0,03650\n",
    "\n",
    "\"\"\"\n",
    "r= -0.03650439594513573\n",
    "n=14-2\n",
    "akar_atas=np.sqrt(n)\n",
    "kali=akar_atas*r\n",
    "kali\n",
    "\n",
    "pangkat=r**2\n",
    "kurangi=1-pangkat\n",
    "akar_bawah=np.sqrt(kurangi)\n",
    "\n",
    "bagi=kali/akar_bawah\n",
    "bagi"
   ]
  },
  {
   "cell_type": "code",
   "execution_count": 18,
   "metadata": {},
   "outputs": [
    {
     "name": "stdout",
     "output_type": "stream",
     "text": [
      "maka nilai t adalah :  -0.12653927633974701\n"
     ]
    }
   ],
   "source": [
    "print('maka nilai t adalah : ', bagi)"
   ]
  },
  {
   "cell_type": "code",
   "execution_count": 20,
   "metadata": {},
   "outputs": [
    {
     "data": {
      "text/html": [
       "<div>\n",
       "<style scoped>\n",
       "    .dataframe tbody tr th:only-of-type {\n",
       "        vertical-align: middle;\n",
       "    }\n",
       "\n",
       "    .dataframe tbody tr th {\n",
       "        vertical-align: top;\n",
       "    }\n",
       "\n",
       "    .dataframe thead th {\n",
       "        text-align: right;\n",
       "    }\n",
       "</style>\n",
       "<table border=\"1\" class=\"dataframe\">\n",
       "  <thead>\n",
       "    <tr style=\"text-align: right;\">\n",
       "      <th></th>\n",
       "      <th>Jumlah Kecelakaan Lalu Lintas (kasus)</th>\n",
       "    </tr>\n",
       "  </thead>\n",
       "  <tbody>\n",
       "    <tr>\n",
       "      <th>0</th>\n",
       "      <td>107</td>\n",
       "    </tr>\n",
       "    <tr>\n",
       "      <th>1</th>\n",
       "      <td>113</td>\n",
       "    </tr>\n",
       "    <tr>\n",
       "      <th>2</th>\n",
       "      <td>117</td>\n",
       "    </tr>\n",
       "    <tr>\n",
       "      <th>3</th>\n",
       "      <td>129</td>\n",
       "    </tr>\n",
       "    <tr>\n",
       "      <th>4</th>\n",
       "      <td>137</td>\n",
       "    </tr>\n",
       "    <tr>\n",
       "      <th>5</th>\n",
       "      <td>99</td>\n",
       "    </tr>\n",
       "    <tr>\n",
       "      <th>6</th>\n",
       "      <td>112</td>\n",
       "    </tr>\n",
       "    <tr>\n",
       "      <th>7</th>\n",
       "      <td>114</td>\n",
       "    </tr>\n",
       "    <tr>\n",
       "      <th>8</th>\n",
       "      <td>126</td>\n",
       "    </tr>\n",
       "    <tr>\n",
       "      <th>9</th>\n",
       "      <td>101</td>\n",
       "    </tr>\n",
       "    <tr>\n",
       "      <th>10</th>\n",
       "      <td>116</td>\n",
       "    </tr>\n",
       "    <tr>\n",
       "      <th>11</th>\n",
       "      <td>103</td>\n",
       "    </tr>\n",
       "  </tbody>\n",
       "</table>\n",
       "</div>"
      ],
      "text/plain": [
       "    Jumlah Kecelakaan Lalu Lintas (kasus) \n",
       "0                                      107\n",
       "1                                      113\n",
       "2                                      117\n",
       "3                                      129\n",
       "4                                      137\n",
       "5                                       99\n",
       "6                                      112\n",
       "7                                      114\n",
       "8                                      126\n",
       "9                                      101\n",
       "10                                     116\n",
       "11                                     103"
      ]
     },
     "execution_count": 20,
     "metadata": {},
     "output_type": "execute_result"
    }
   ],
   "source": [
    "x=data2.iloc[:,[0]]\n",
    "x"
   ]
  },
  {
   "cell_type": "code",
   "execution_count": 21,
   "metadata": {},
   "outputs": [
    {
     "data": {
      "text/html": [
       "<div>\n",
       "<style scoped>\n",
       "    .dataframe tbody tr th:only-of-type {\n",
       "        vertical-align: middle;\n",
       "    }\n",
       "\n",
       "    .dataframe tbody tr th {\n",
       "        vertical-align: top;\n",
       "    }\n",
       "\n",
       "    .dataframe thead th {\n",
       "        text-align: right;\n",
       "    }\n",
       "</style>\n",
       "<table border=\"1\" class=\"dataframe\">\n",
       "  <thead>\n",
       "    <tr style=\"text-align: right;\">\n",
       "      <th></th>\n",
       "      <th>Pertumbuhan jumlah kendaraan bermotor (unit)</th>\n",
       "    </tr>\n",
       "  </thead>\n",
       "  <tbody>\n",
       "    <tr>\n",
       "      <th>0</th>\n",
       "      <td>873</td>\n",
       "    </tr>\n",
       "    <tr>\n",
       "      <th>1</th>\n",
       "      <td>402</td>\n",
       "    </tr>\n",
       "    <tr>\n",
       "      <th>2</th>\n",
       "      <td>538</td>\n",
       "    </tr>\n",
       "    <tr>\n",
       "      <th>3</th>\n",
       "      <td>432</td>\n",
       "    </tr>\n",
       "    <tr>\n",
       "      <th>4</th>\n",
       "      <td>746</td>\n",
       "    </tr>\n",
       "    <tr>\n",
       "      <th>5</th>\n",
       "      <td>393</td>\n",
       "    </tr>\n",
       "    <tr>\n",
       "      <th>6</th>\n",
       "      <td>746</td>\n",
       "    </tr>\n",
       "    <tr>\n",
       "      <th>7</th>\n",
       "      <td>799</td>\n",
       "    </tr>\n",
       "    <tr>\n",
       "      <th>8</th>\n",
       "      <td>516</td>\n",
       "    </tr>\n",
       "    <tr>\n",
       "      <th>9</th>\n",
       "      <td>493</td>\n",
       "    </tr>\n",
       "    <tr>\n",
       "      <th>10</th>\n",
       "      <td>871</td>\n",
       "    </tr>\n",
       "    <tr>\n",
       "      <th>11</th>\n",
       "      <td>904</td>\n",
       "    </tr>\n",
       "  </tbody>\n",
       "</table>\n",
       "</div>"
      ],
      "text/plain": [
       "    Pertumbuhan jumlah kendaraan bermotor (unit)\n",
       "0                                            873\n",
       "1                                            402\n",
       "2                                            538\n",
       "3                                            432\n",
       "4                                            746\n",
       "5                                            393\n",
       "6                                            746\n",
       "7                                            799\n",
       "8                                            516\n",
       "9                                            493\n",
       "10                                           871\n",
       "11                                           904"
      ]
     },
     "execution_count": 21,
     "metadata": {},
     "output_type": "execute_result"
    }
   ],
   "source": [
    "y=data2.iloc[:,[1]]\n",
    "y"
   ]
  },
  {
   "cell_type": "code",
   "execution_count": 27,
   "metadata": {},
   "outputs": [
    {
     "name": "stdout",
     "output_type": "stream",
     "text": [
      "correlation:  [-0.0365044] P_VALUES:  [0.91032439]\n"
     ]
    }
   ],
   "source": [
    "from scipy.stats import pearsonr\n",
    "\n",
    "correlation, p_value=pearsonr(x,y)\n",
    "print('correlation: ',correlation,'P_VALUES: ',p_value)"
   ]
  },
  {
   "cell_type": "code",
   "execution_count": null,
   "metadata": {},
   "outputs": [],
   "source": [
    "# dari hasil data di atas maka didapat bahwa kita TIDAK BISA menghiraukan H0"
   ]
  },
  {
   "cell_type": "code",
   "execution_count": 1,
   "metadata": {},
   "outputs": [
    {
     "data": {
      "image/png": "[encoded data removed]",
      "text/plain": [
       "<IPython.core.display.Image object>"
      ]
     },
     "execution_count": 1,
     "metadata": {},
     "output_type": "execute_result"
    }
   ],
   "source": [
    "from IPython.display import Image\n",
    "\n",
    "# Menampilkan gambar\n",
    "image_path = \"signifikan_pearson.png\"\n",
    "Image(filename=image_path)\n"
   ]
  }
 ],
 "metadata": {
  "kernelspec": {
   "display_name": "Python 3",
   "language": "python",
   "name": "python3"
  },
  "language_info": {
   "codemirror_mode": {
    "name": "ipython",
    "version": 3
   },
   "file_extension": ".py",
   "mimetype": "text/x-python",
   "name": "python",
   "nbconvert_exporter": "python",
   "pygments_lexer": "ipython3",
   "version": "3.11.9"
  }
 },
 "nbformat": 4,
 "nbformat_minor": 2
}
